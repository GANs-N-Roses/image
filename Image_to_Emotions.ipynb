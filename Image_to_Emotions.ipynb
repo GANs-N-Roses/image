{
  "nbformat": 4,
  "nbformat_minor": 0,
  "metadata": {
    "accelerator": "GPU",
    "colab": {
      "name": "Image to Emotions.ipynb",
      "provenance": [],
      "collapsed_sections": []
    },
    "kernelspec": {
      "display_name": "Python 3",
      "name": "python3"
    },
    "language_info": {
      "name": "python"
    }
  },
  "cells": [
    {
      "cell_type": "markdown",
      "metadata": {
        "id": "C-9kaYEz75q7"
      },
      "source": [
        "# Parte común"
      ]
    },
    {
      "cell_type": "code",
      "metadata": {
        "colab": {
          "base_uri": "https://localhost:8080/"
        },
        "id": "jSsz6LfqMcX_",
        "outputId": "cc16c43a-97ee-4847-9338-77cb51c00043"
      },
      "source": [
        "from google.colab import drive\n",
        "drive.mount('/content/drive')"
      ],
      "execution_count": 1,
      "outputs": [
        {
          "output_type": "stream",
          "text": [
            "Mounted at /content/drive\n"
          ],
          "name": "stdout"
        }
      ]
    },
    {
      "cell_type": "code",
      "metadata": {
        "id": "P1LD0Rv7_bWE"
      },
      "source": [
        "import pandas as pd\n",
        "import numpy as np"
      ],
      "execution_count": 2,
      "outputs": []
    },
    {
      "cell_type": "markdown",
      "metadata": {
        "id": "6qfLg2F-6f8O"
      },
      "source": [
        "# Creación de dataset"
      ]
    },
    {
      "cell_type": "code",
      "metadata": {
        "colab": {
          "base_uri": "https://localhost:8080/",
          "height": 235
        },
        "id": "hunIGHwxgBY-",
        "outputId": "d1b7a1d6-7362-427f-87fc-dba34483f002"
      },
      "source": [
        "annotations = pd.read_csv('/content/drive/My Drive/GANsNRoses/datasets/output/annotations_v2.csv', sep=';').drop(columns=['agreeableness', 'disagreeableness', 'shyness', 'neutral']).set_index('picture')\n",
        "annotations.head()"
      ],
      "execution_count": 3,
      "outputs": [
        {
          "output_type": "execute_result",
          "data": {
            "text/html": [
              "<div>\n",
              "<style scoped>\n",
              "    .dataframe tbody tr th:only-of-type {\n",
              "        vertical-align: middle;\n",
              "    }\n",
              "\n",
              "    .dataframe tbody tr th {\n",
              "        vertical-align: top;\n",
              "    }\n",
              "\n",
              "    .dataframe thead th {\n",
              "        text-align: right;\n",
              "    }\n",
              "</style>\n",
              "<table border=\"1\" class=\"dataframe\">\n",
              "  <thead>\n",
              "    <tr style=\"text-align: right;\">\n",
              "      <th></th>\n",
              "      <th>anger</th>\n",
              "      <th>anticipation</th>\n",
              "      <th>arrogance</th>\n",
              "      <th>disgust</th>\n",
              "      <th>fear</th>\n",
              "      <th>gratitude</th>\n",
              "      <th>happiness</th>\n",
              "      <th>humility</th>\n",
              "      <th>love</th>\n",
              "      <th>optimism</th>\n",
              "      <th>pessimism</th>\n",
              "      <th>regret</th>\n",
              "      <th>sadness</th>\n",
              "      <th>shame</th>\n",
              "      <th>surprise</th>\n",
              "      <th>trust</th>\n",
              "    </tr>\n",
              "    <tr>\n",
              "      <th>picture</th>\n",
              "      <th></th>\n",
              "      <th></th>\n",
              "      <th></th>\n",
              "      <th></th>\n",
              "      <th></th>\n",
              "      <th></th>\n",
              "      <th></th>\n",
              "      <th></th>\n",
              "      <th></th>\n",
              "      <th></th>\n",
              "      <th></th>\n",
              "      <th></th>\n",
              "      <th></th>\n",
              "      <th></th>\n",
              "      <th></th>\n",
              "      <th></th>\n",
              "    </tr>\n",
              "  </thead>\n",
              "  <tbody>\n",
              "    <tr>\n",
              "      <th>58c6237dedc2c9c7dc0de1ae.jpg</th>\n",
              "      <td>0.012</td>\n",
              "      <td>0.071</td>\n",
              "      <td>0.024</td>\n",
              "      <td>0.000</td>\n",
              "      <td>0.012</td>\n",
              "      <td>0.119</td>\n",
              "      <td>0.726</td>\n",
              "      <td>0.369</td>\n",
              "      <td>0.250</td>\n",
              "      <td>0.274</td>\n",
              "      <td>0.012</td>\n",
              "      <td>0.000</td>\n",
              "      <td>0.131</td>\n",
              "      <td>0.000</td>\n",
              "      <td>0.024</td>\n",
              "      <td>0.250</td>\n",
              "    </tr>\n",
              "    <tr>\n",
              "      <th>577280dfedc2cb3880f28e76.jpg</th>\n",
              "      <td>0.000</td>\n",
              "      <td>0.100</td>\n",
              "      <td>0.000</td>\n",
              "      <td>0.100</td>\n",
              "      <td>0.300</td>\n",
              "      <td>0.000</td>\n",
              "      <td>0.100</td>\n",
              "      <td>0.100</td>\n",
              "      <td>0.000</td>\n",
              "      <td>0.200</td>\n",
              "      <td>0.200</td>\n",
              "      <td>0.100</td>\n",
              "      <td>0.200</td>\n",
              "      <td>0.000</td>\n",
              "      <td>0.500</td>\n",
              "      <td>0.000</td>\n",
              "    </tr>\n",
              "    <tr>\n",
              "      <th>57727f2dedc2cb3880ed5fa9.jpg</th>\n",
              "      <td>0.000</td>\n",
              "      <td>0.200</td>\n",
              "      <td>0.000</td>\n",
              "      <td>0.000</td>\n",
              "      <td>0.000</td>\n",
              "      <td>0.100</td>\n",
              "      <td>0.500</td>\n",
              "      <td>0.300</td>\n",
              "      <td>0.000</td>\n",
              "      <td>0.300</td>\n",
              "      <td>0.000</td>\n",
              "      <td>0.000</td>\n",
              "      <td>0.000</td>\n",
              "      <td>0.000</td>\n",
              "      <td>0.100</td>\n",
              "      <td>0.200</td>\n",
              "    </tr>\n",
              "    <tr>\n",
              "      <th>58d1240cedc2c94f900fc610.jpg</th>\n",
              "      <td>0.000</td>\n",
              "      <td>0.091</td>\n",
              "      <td>0.000</td>\n",
              "      <td>0.091</td>\n",
              "      <td>0.000</td>\n",
              "      <td>0.000</td>\n",
              "      <td>0.091</td>\n",
              "      <td>0.091</td>\n",
              "      <td>0.000</td>\n",
              "      <td>0.000</td>\n",
              "      <td>0.182</td>\n",
              "      <td>0.000</td>\n",
              "      <td>0.364</td>\n",
              "      <td>0.000</td>\n",
              "      <td>0.273</td>\n",
              "      <td>0.000</td>\n",
              "    </tr>\n",
              "    <tr>\n",
              "      <th>57727de7edc2cb3880e91f26.jpg</th>\n",
              "      <td>0.077</td>\n",
              "      <td>0.077</td>\n",
              "      <td>0.231</td>\n",
              "      <td>0.308</td>\n",
              "      <td>0.308</td>\n",
              "      <td>0.231</td>\n",
              "      <td>0.154</td>\n",
              "      <td>0.077</td>\n",
              "      <td>0.077</td>\n",
              "      <td>0.231</td>\n",
              "      <td>0.231</td>\n",
              "      <td>0.077</td>\n",
              "      <td>0.231</td>\n",
              "      <td>0.154</td>\n",
              "      <td>0.154</td>\n",
              "      <td>0.231</td>\n",
              "    </tr>\n",
              "  </tbody>\n",
              "</table>\n",
              "</div>"
            ],
            "text/plain": [
              "                              anger  anticipation  ...  surprise  trust\n",
              "picture                                            ...                 \n",
              "58c6237dedc2c9c7dc0de1ae.jpg  0.012         0.071  ...     0.024  0.250\n",
              "577280dfedc2cb3880f28e76.jpg  0.000         0.100  ...     0.500  0.000\n",
              "57727f2dedc2cb3880ed5fa9.jpg  0.000         0.200  ...     0.100  0.200\n",
              "58d1240cedc2c94f900fc610.jpg  0.000         0.091  ...     0.273  0.000\n",
              "57727de7edc2cb3880e91f26.jpg  0.077         0.077  ...     0.154  0.231\n",
              "\n",
              "[5 rows x 16 columns]"
            ]
          },
          "metadata": {
            "tags": []
          },
          "execution_count": 3
        }
      ]
    },
    {
      "cell_type": "code",
      "metadata": {
        "colab": {
          "base_uri": "https://localhost:8080/",
          "height": 235
        },
        "id": "hCf2-c1wVL8f",
        "outputId": "85d184e5-a552-4acd-bfeb-03ea4adf2995"
      },
      "source": [
        "from scipy.special import softmax\n",
        "\n",
        "def softmax_no_zeros(row):\n",
        "    softmax_values = softmax([value for value in row if value > 0])\n",
        "    current_index = 0\n",
        "    ret_values = []\n",
        "    for index in range(len(row)):\n",
        "        if row[index] > 0:\n",
        "            ret_values.append(softmax_values[current_index])\n",
        "            current_index += 1\n",
        "        else:\n",
        "            ret_values.append(0.0)\n",
        "    return pd.Series(ret_values, index=annotations.columns)\n",
        "\n",
        "annotations = annotations.apply(softmax_no_zeros, axis=1)\n",
        "annotations.head()"
      ],
      "execution_count": 4,
      "outputs": [
        {
          "output_type": "execute_result",
          "data": {
            "text/html": [
              "<div>\n",
              "<style scoped>\n",
              "    .dataframe tbody tr th:only-of-type {\n",
              "        vertical-align: middle;\n",
              "    }\n",
              "\n",
              "    .dataframe tbody tr th {\n",
              "        vertical-align: top;\n",
              "    }\n",
              "\n",
              "    .dataframe thead th {\n",
              "        text-align: right;\n",
              "    }\n",
              "</style>\n",
              "<table border=\"1\" class=\"dataframe\">\n",
              "  <thead>\n",
              "    <tr style=\"text-align: right;\">\n",
              "      <th></th>\n",
              "      <th>anger</th>\n",
              "      <th>anticipation</th>\n",
              "      <th>arrogance</th>\n",
              "      <th>disgust</th>\n",
              "      <th>fear</th>\n",
              "      <th>gratitude</th>\n",
              "      <th>happiness</th>\n",
              "      <th>humility</th>\n",
              "      <th>love</th>\n",
              "      <th>optimism</th>\n",
              "      <th>pessimism</th>\n",
              "      <th>regret</th>\n",
              "      <th>sadness</th>\n",
              "      <th>shame</th>\n",
              "      <th>surprise</th>\n",
              "      <th>trust</th>\n",
              "    </tr>\n",
              "    <tr>\n",
              "      <th>picture</th>\n",
              "      <th></th>\n",
              "      <th></th>\n",
              "      <th></th>\n",
              "      <th></th>\n",
              "      <th></th>\n",
              "      <th></th>\n",
              "      <th></th>\n",
              "      <th></th>\n",
              "      <th></th>\n",
              "      <th></th>\n",
              "      <th></th>\n",
              "      <th></th>\n",
              "      <th></th>\n",
              "      <th></th>\n",
              "      <th></th>\n",
              "      <th></th>\n",
              "    </tr>\n",
              "  </thead>\n",
              "  <tbody>\n",
              "    <tr>\n",
              "      <th>58c6237dedc2c9c7dc0de1ae.jpg</th>\n",
              "      <td>0.06397</td>\n",
              "      <td>0.067858</td>\n",
              "      <td>0.064742</td>\n",
              "      <td>0.000000</td>\n",
              "      <td>0.063970</td>\n",
              "      <td>0.071194</td>\n",
              "      <td>0.130636</td>\n",
              "      <td>0.091415</td>\n",
              "      <td>0.081159</td>\n",
              "      <td>0.083131</td>\n",
              "      <td>0.063970</td>\n",
              "      <td>0.000000</td>\n",
              "      <td>0.072054</td>\n",
              "      <td>0.000000</td>\n",
              "      <td>0.064742</td>\n",
              "      <td>0.081159</td>\n",
              "    </tr>\n",
              "    <tr>\n",
              "      <th>577280dfedc2cb3880f28e76.jpg</th>\n",
              "      <td>0.00000</td>\n",
              "      <td>0.090672</td>\n",
              "      <td>0.000000</td>\n",
              "      <td>0.090672</td>\n",
              "      <td>0.110747</td>\n",
              "      <td>0.000000</td>\n",
              "      <td>0.090672</td>\n",
              "      <td>0.090672</td>\n",
              "      <td>0.000000</td>\n",
              "      <td>0.100208</td>\n",
              "      <td>0.100208</td>\n",
              "      <td>0.090672</td>\n",
              "      <td>0.100208</td>\n",
              "      <td>0.000000</td>\n",
              "      <td>0.135267</td>\n",
              "      <td>0.000000</td>\n",
              "    </tr>\n",
              "    <tr>\n",
              "      <th>57727f2dedc2cb3880ed5fa9.jpg</th>\n",
              "      <td>0.00000</td>\n",
              "      <td>0.135688</td>\n",
              "      <td>0.000000</td>\n",
              "      <td>0.000000</td>\n",
              "      <td>0.000000</td>\n",
              "      <td>0.122775</td>\n",
              "      <td>0.183159</td>\n",
              "      <td>0.149958</td>\n",
              "      <td>0.000000</td>\n",
              "      <td>0.149958</td>\n",
              "      <td>0.000000</td>\n",
              "      <td>0.000000</td>\n",
              "      <td>0.000000</td>\n",
              "      <td>0.000000</td>\n",
              "      <td>0.122775</td>\n",
              "      <td>0.135688</td>\n",
              "    </tr>\n",
              "    <tr>\n",
              "      <th>58d1240cedc2c94f900fc610.jpg</th>\n",
              "      <td>0.00000</td>\n",
              "      <td>0.131427</td>\n",
              "      <td>0.000000</td>\n",
              "      <td>0.131427</td>\n",
              "      <td>0.000000</td>\n",
              "      <td>0.000000</td>\n",
              "      <td>0.131427</td>\n",
              "      <td>0.131427</td>\n",
              "      <td>0.000000</td>\n",
              "      <td>0.000000</td>\n",
              "      <td>0.143948</td>\n",
              "      <td>0.000000</td>\n",
              "      <td>0.172682</td>\n",
              "      <td>0.000000</td>\n",
              "      <td>0.157662</td>\n",
              "      <td>0.000000</td>\n",
              "    </tr>\n",
              "    <tr>\n",
              "      <th>57727de7edc2cb3880e91f26.jpg</th>\n",
              "      <td>0.05631</td>\n",
              "      <td>0.056310</td>\n",
              "      <td>0.065685</td>\n",
              "      <td>0.070943</td>\n",
              "      <td>0.070943</td>\n",
              "      <td>0.065685</td>\n",
              "      <td>0.060817</td>\n",
              "      <td>0.056310</td>\n",
              "      <td>0.056310</td>\n",
              "      <td>0.065685</td>\n",
              "      <td>0.065685</td>\n",
              "      <td>0.056310</td>\n",
              "      <td>0.065685</td>\n",
              "      <td>0.060817</td>\n",
              "      <td>0.060817</td>\n",
              "      <td>0.065685</td>\n",
              "    </tr>\n",
              "  </tbody>\n",
              "</table>\n",
              "</div>"
            ],
            "text/plain": [
              "                                anger  anticipation  ...  surprise     trust\n",
              "picture                                              ...                    \n",
              "58c6237dedc2c9c7dc0de1ae.jpg  0.06397      0.067858  ...  0.064742  0.081159\n",
              "577280dfedc2cb3880f28e76.jpg  0.00000      0.090672  ...  0.135267  0.000000\n",
              "57727f2dedc2cb3880ed5fa9.jpg  0.00000      0.135688  ...  0.122775  0.135688\n",
              "58d1240cedc2c94f900fc610.jpg  0.00000      0.131427  ...  0.157662  0.000000\n",
              "57727de7edc2cb3880e91f26.jpg  0.05631      0.056310  ...  0.060817  0.065685\n",
              "\n",
              "[5 rows x 16 columns]"
            ]
          },
          "metadata": {
            "tags": []
          },
          "execution_count": 4
        }
      ]
    },
    {
      "cell_type": "code",
      "metadata": {
        "colab": {
          "base_uri": "https://localhost:8080/",
          "height": 255
        },
        "id": "-RZjeoNrSRvP",
        "outputId": "7e34e6e9-16c9-4174-c441-09064b8dc7cb"
      },
      "source": [
        "SENTIMENTS_TO_ANGLE = {'gratitude': 0, 'optimism': np.pi/6, \n",
        "                       'happiness': 2*np.pi/6, 'anticipation': -1, \n",
        "                       'surprise': -1, 'fear': 7*np.pi/8, \n",
        "                       'anger': 6*np.pi/8, 'arrogance': 5*np.pi/8, \n",
        "                       'disgust': np.pi, 'shame': 11*np.pi/10, \n",
        "                       'sadness': 12*np.pi/10, 'pessimism': 13*np.pi/10, \n",
        "                       'regret': 14*np.pi/10, 'humility': 13*np.pi/8, \n",
        "                       'love': 14*np.pi/8, 'trust': 15*np.pi/8}\n",
        "\n",
        "def sentiments_to_coordinates(sentiments):\n",
        "    coordinates = []\n",
        "    for s in annotations.columns:\n",
        "        if SENTIMENTS_TO_ANGLE[s] != -1:\n",
        "            coordinates.append([np.cos(SENTIMENTS_TO_ANGLE[s]), \n",
        "                                np.sin(SENTIMENTS_TO_ANGLE[s])])\n",
        "        else:\n",
        "            coordinates.append([0,0])\n",
        "\n",
        "    return np.array(coordinates)\n",
        "\n",
        "def get_va(sentiments):\n",
        "    return np.dot(np.transpose(sentiments.values), sentiments_to_coordinates(sentiments))\n",
        "    \n",
        "\n",
        "annotations[['valence', 'arousal']] = annotations.apply(get_va, axis=1, result_type='expand')\n",
        "annotations.head()"
      ],
      "execution_count": 6,
      "outputs": [
        {
          "output_type": "execute_result",
          "data": {
            "text/html": [
              "<div>\n",
              "<style scoped>\n",
              "    .dataframe tbody tr th:only-of-type {\n",
              "        vertical-align: middle;\n",
              "    }\n",
              "\n",
              "    .dataframe tbody tr th {\n",
              "        vertical-align: top;\n",
              "    }\n",
              "\n",
              "    .dataframe thead th {\n",
              "        text-align: right;\n",
              "    }\n",
              "</style>\n",
              "<table border=\"1\" class=\"dataframe\">\n",
              "  <thead>\n",
              "    <tr style=\"text-align: right;\">\n",
              "      <th></th>\n",
              "      <th>anger</th>\n",
              "      <th>anticipation</th>\n",
              "      <th>arrogance</th>\n",
              "      <th>disgust</th>\n",
              "      <th>fear</th>\n",
              "      <th>gratitude</th>\n",
              "      <th>happiness</th>\n",
              "      <th>humility</th>\n",
              "      <th>love</th>\n",
              "      <th>optimism</th>\n",
              "      <th>pessimism</th>\n",
              "      <th>regret</th>\n",
              "      <th>sadness</th>\n",
              "      <th>shame</th>\n",
              "      <th>surprise</th>\n",
              "      <th>trust</th>\n",
              "      <th>valence</th>\n",
              "      <th>arousal</th>\n",
              "    </tr>\n",
              "    <tr>\n",
              "      <th>picture</th>\n",
              "      <th></th>\n",
              "      <th></th>\n",
              "      <th></th>\n",
              "      <th></th>\n",
              "      <th></th>\n",
              "      <th></th>\n",
              "      <th></th>\n",
              "      <th></th>\n",
              "      <th></th>\n",
              "      <th></th>\n",
              "      <th></th>\n",
              "      <th></th>\n",
              "      <th></th>\n",
              "      <th></th>\n",
              "      <th></th>\n",
              "      <th></th>\n",
              "      <th></th>\n",
              "      <th></th>\n",
              "    </tr>\n",
              "  </thead>\n",
              "  <tbody>\n",
              "    <tr>\n",
              "      <th>58c6237dedc2c9c7dc0de1ae.jpg</th>\n",
              "      <td>0.06397</td>\n",
              "      <td>0.067858</td>\n",
              "      <td>0.064742</td>\n",
              "      <td>0.000000</td>\n",
              "      <td>0.063970</td>\n",
              "      <td>0.071194</td>\n",
              "      <td>0.130636</td>\n",
              "      <td>0.091415</td>\n",
              "      <td>0.081159</td>\n",
              "      <td>0.083131</td>\n",
              "      <td>0.063970</td>\n",
              "      <td>0.000000</td>\n",
              "      <td>0.072054</td>\n",
              "      <td>0.000000</td>\n",
              "      <td>0.064742</td>\n",
              "      <td>0.081159</td>\n",
              "      <td>0.150855</td>\n",
              "      <td>0.017219</td>\n",
              "    </tr>\n",
              "    <tr>\n",
              "      <th>577280dfedc2cb3880f28e76.jpg</th>\n",
              "      <td>0.00000</td>\n",
              "      <td>0.090672</td>\n",
              "      <td>0.000000</td>\n",
              "      <td>0.090672</td>\n",
              "      <td>0.110747</td>\n",
              "      <td>0.000000</td>\n",
              "      <td>0.090672</td>\n",
              "      <td>0.090672</td>\n",
              "      <td>0.000000</td>\n",
              "      <td>0.100208</td>\n",
              "      <td>0.100208</td>\n",
              "      <td>0.090672</td>\n",
              "      <td>0.100208</td>\n",
              "      <td>0.000000</td>\n",
              "      <td>0.135267</td>\n",
              "      <td>0.000000</td>\n",
              "      <td>-0.194162</td>\n",
              "      <td>-0.138966</td>\n",
              "    </tr>\n",
              "    <tr>\n",
              "      <th>57727f2dedc2cb3880ed5fa9.jpg</th>\n",
              "      <td>0.00000</td>\n",
              "      <td>0.135688</td>\n",
              "      <td>0.000000</td>\n",
              "      <td>0.000000</td>\n",
              "      <td>0.000000</td>\n",
              "      <td>0.122775</td>\n",
              "      <td>0.183159</td>\n",
              "      <td>0.149958</td>\n",
              "      <td>0.000000</td>\n",
              "      <td>0.149958</td>\n",
              "      <td>0.000000</td>\n",
              "      <td>0.000000</td>\n",
              "      <td>0.000000</td>\n",
              "      <td>0.000000</td>\n",
              "      <td>0.122775</td>\n",
              "      <td>0.135688</td>\n",
              "      <td>0.526967</td>\n",
              "      <td>0.043131</td>\n",
              "    </tr>\n",
              "    <tr>\n",
              "      <th>58d1240cedc2c94f900fc610.jpg</th>\n",
              "      <td>0.00000</td>\n",
              "      <td>0.131427</td>\n",
              "      <td>0.000000</td>\n",
              "      <td>0.131427</td>\n",
              "      <td>0.000000</td>\n",
              "      <td>0.000000</td>\n",
              "      <td>0.131427</td>\n",
              "      <td>0.131427</td>\n",
              "      <td>0.000000</td>\n",
              "      <td>0.000000</td>\n",
              "      <td>0.143948</td>\n",
              "      <td>0.000000</td>\n",
              "      <td>0.172682</td>\n",
              "      <td>0.000000</td>\n",
              "      <td>0.157662</td>\n",
              "      <td>0.000000</td>\n",
              "      <td>-0.239732</td>\n",
              "      <td>-0.225560</td>\n",
              "    </tr>\n",
              "    <tr>\n",
              "      <th>57727de7edc2cb3880e91f26.jpg</th>\n",
              "      <td>0.05631</td>\n",
              "      <td>0.056310</td>\n",
              "      <td>0.065685</td>\n",
              "      <td>0.070943</td>\n",
              "      <td>0.070943</td>\n",
              "      <td>0.065685</td>\n",
              "      <td>0.060817</td>\n",
              "      <td>0.056310</td>\n",
              "      <td>0.056310</td>\n",
              "      <td>0.065685</td>\n",
              "      <td>0.065685</td>\n",
              "      <td>0.056310</td>\n",
              "      <td>0.065685</td>\n",
              "      <td>0.060817</td>\n",
              "      <td>0.060817</td>\n",
              "      <td>0.065685</td>\n",
              "      <td>-0.093400</td>\n",
              "      <td>-0.067912</td>\n",
              "    </tr>\n",
              "  </tbody>\n",
              "</table>\n",
              "</div>"
            ],
            "text/plain": [
              "                                anger  anticipation  ...   valence   arousal\n",
              "picture                                              ...                    \n",
              "58c6237dedc2c9c7dc0de1ae.jpg  0.06397      0.067858  ...  0.150855  0.017219\n",
              "577280dfedc2cb3880f28e76.jpg  0.00000      0.090672  ... -0.194162 -0.138966\n",
              "57727f2dedc2cb3880ed5fa9.jpg  0.00000      0.135688  ...  0.526967  0.043131\n",
              "58d1240cedc2c94f900fc610.jpg  0.00000      0.131427  ... -0.239732 -0.225560\n",
              "57727de7edc2cb3880e91f26.jpg  0.05631      0.056310  ... -0.093400 -0.067912\n",
              "\n",
              "[5 rows x 18 columns]"
            ]
          },
          "metadata": {
            "tags": []
          },
          "execution_count": 6
        }
      ]
    },
    {
      "cell_type": "code",
      "metadata": {
        "id": "SqyIXfwCySwJ"
      },
      "source": [
        "# Get quadrants\n",
        "coordinates_to_quadrant = {(True, True): 0, (False, True): 1, (False, False): 2,\n",
        "                           (True, False): 3}\n",
        "\n",
        "annotations['quadrant'] = annotations.apply(lambda row: coordinates_to_quadrant[(row['valence'] > 0, row['arousal'] > 0)], axis=1)"
      ],
      "execution_count": 7,
      "outputs": []
    },
    {
      "cell_type": "markdown",
      "metadata": {
        "id": "16lDA9w1CLNe"
      },
      "source": [
        "# Creación del modelo"
      ]
    },
    {
      "cell_type": "code",
      "metadata": {
        "id": "XarwN8ltLzkK"
      },
      "source": [
        "import tensorflow as tf\n",
        "from PIL import Image"
      ],
      "execution_count": 8,
      "outputs": []
    },
    {
      "cell_type": "code",
      "metadata": {
        "id": "4FZ0zGSKCl-q"
      },
      "source": [
        "# CONSTANTES\n",
        "REBUILD = False\n",
        "SEED = 1234567890\n",
        "np.random.seed(SEED)\n",
        "tf.random.set_seed(SEED)\n",
        "N_QUADRANTS = 4\n",
        "IMG_SIZE = 512\n",
        "BATCH_SIZE = 64\n",
        "COLORS = 3\n",
        "INPUT_SHAPE = (IMG_SIZE, IMG_SIZE, COLORS)\n",
        "EPOCHS = 30"
      ],
      "execution_count": 9,
      "outputs": []
    },
    {
      "cell_type": "code",
      "metadata": {
        "id": "WpaDJDtk_4xk"
      },
      "source": [
        "root_folder = '/content/drive/My Drive/GANsNRoses/datasets/output/'\n",
        "all_pictures = 'pictures/'"
      ],
      "execution_count": 10,
      "outputs": []
    },
    {
      "cell_type": "code",
      "metadata": {
        "id": "vADOtoiKn6DO"
      },
      "source": [
        "def load_img(row):\n",
        "    image = Image.open(root_folder + all_pictures + row.name)\n",
        "    image_resized = image.resize((IMG_SIZE, IMG_SIZE), Image.ANTIALIAS)\n",
        "    img_array = np.asarray(image_resized)\n",
        "    return img_array\n",
        "\n",
        "annotations['img'] = annotations.apply(load_img, axis=1)"
      ],
      "execution_count": 11,
      "outputs": []
    },
    {
      "cell_type": "code",
      "metadata": {
        "id": "TNmZ_R0l3G3f"
      },
      "source": [
        "# Filter images with no correct size\n",
        "annotations = annotations[annotations.img.map(lambda image: image.size == 512*512*3)]"
      ],
      "execution_count": 12,
      "outputs": []
    },
    {
      "cell_type": "code",
      "metadata": {
        "colab": {
          "base_uri": "https://localhost:8080/"
        },
        "id": "u56cC5zw2wH_",
        "outputId": "5cae7761-ef0e-4138-a0ed-54132c500914"
      },
      "source": [
        "import gc\n",
        "gc.collect()"
      ],
      "execution_count": 13,
      "outputs": [
        {
          "output_type": "execute_result",
          "data": {
            "text/plain": [
              "100"
            ]
          },
          "metadata": {
            "tags": []
          },
          "execution_count": 13
        }
      ]
    },
    {
      "cell_type": "code",
      "metadata": {
        "colab": {
          "base_uri": "https://localhost:8080/",
          "height": 35
        },
        "id": "I8Q_V95MmzlT",
        "outputId": "26d1289f-60f5-4f65-fde7-8da9af13a7c7"
      },
      "source": [
        "# Uncomment to augmentate data not in 1st quadrant\n",
        "\"\"\"\n",
        "annotations_to_augmentate = annotations[annotations.apply(lambda row: row.valence < 0 or row.arousal < 0, axis=1)]\n",
        "annotations = pd.concat((annotations, annotations_to_augmentate))\n",
        "\"\"\""
      ],
      "execution_count": 14,
      "outputs": [
        {
          "output_type": "execute_result",
          "data": {
            "application/vnd.google.colaboratory.intrinsic+json": {
              "type": "string"
            },
            "text/plain": [
              "'\\nannotations_to_augmentate = annotations[annotations.apply(lambda row: row.valence < 0 or row.arousal < 0, axis=1)]\\nannotations = pd.concat((annotations, annotations_to_augmentate))\\n'"
            ]
          },
          "metadata": {
            "tags": []
          },
          "execution_count": 14
        }
      ]
    },
    {
      "cell_type": "code",
      "metadata": {
        "colab": {
          "base_uri": "https://localhost:8080/"
        },
        "id": "gwukpckpynL6",
        "outputId": "966b2bee-2a2c-451c-d6f1-4c4348cd803e"
      },
      "source": [
        "gc.collect()"
      ],
      "execution_count": 15,
      "outputs": [
        {
          "output_type": "execute_result",
          "data": {
            "text/plain": [
              "102"
            ]
          },
          "metadata": {
            "tags": []
          },
          "execution_count": 15
        }
      ]
    },
    {
      "cell_type": "code",
      "metadata": {
        "id": "-keMDoCPr_Dv"
      },
      "source": [
        "X = np.asarray(annotations['img'].tolist())\n",
        "Y = annotations[['valence', 'arousal']]"
      ],
      "execution_count": 16,
      "outputs": []
    },
    {
      "cell_type": "code",
      "metadata": {
        "colab": {
          "base_uri": "https://localhost:8080/"
        },
        "id": "kcFZ_G8lyr5o",
        "outputId": "0a144837-d9cc-4074-eae8-7b4fee361f71"
      },
      "source": [
        "gc.collect()"
      ],
      "execution_count": 17,
      "outputs": [
        {
          "output_type": "execute_result",
          "data": {
            "text/plain": [
              "100"
            ]
          },
          "metadata": {
            "tags": []
          },
          "execution_count": 17
        }
      ]
    },
    {
      "cell_type": "code",
      "metadata": {
        "id": "VSCPrw0I3rZm"
      },
      "source": [
        "# Create a data augmentation stage with horizontal flipping, rotations, zooms\n",
        "data_augmentation = tf.keras.Sequential(\n",
        "    [\n",
        "        tf.keras.layers.experimental.preprocessing.RandomFlip(seed=SEED),\n",
        "        tf.keras.layers.experimental.preprocessing.RandomRotation(0.2, seed=SEED),\n",
        "        tf.keras.layers.experimental.preprocessing.RandomZoom(0.2, seed=SEED),\n",
        "        tf.keras.layers.experimental.preprocessing.RandomTranslation(0.2, 0.2, seed=SEED),\n",
        "        tf.keras.layers.experimental.preprocessing.RandomHeight(0.2, seed=SEED),\n",
        "        tf.keras.layers.experimental.preprocessing.RandomWidth(0.2, seed=SEED)\n",
        "    ]\n",
        ")"
      ],
      "execution_count": 18,
      "outputs": []
    },
    {
      "cell_type": "code",
      "metadata": {
        "colab": {
          "base_uri": "https://localhost:8080/"
        },
        "id": "9zEYbDuM5S3U",
        "outputId": "8724ea94-aafb-47fe-d6ef-1c420b793006"
      },
      "source": [
        "# get the convolutional part\n",
        "base_model = tf.keras.applications.ResNet50(\n",
        "    weights='imagenet',  # Load weights pre-trained on ImageNet.\n",
        "    input_shape=INPUT_SHAPE,\n",
        "    include_top=False)  # Do not include the ImageNet classifier at the top.\n",
        "base_model.trainable = False"
      ],
      "execution_count": 19,
      "outputs": [
        {
          "output_type": "stream",
          "text": [
            "Downloading data from https://storage.googleapis.com/tensorflow/keras-applications/resnet/resnet50_weights_tf_dim_ordering_tf_kernels_notop.h5\n",
            "94773248/94765736 [==============================] - 1s 0us/step\n"
          ],
          "name": "stdout"
        }
      ]
    },
    {
      "cell_type": "code",
      "metadata": {
        "colab": {
          "base_uri": "https://localhost:8080/"
        },
        "id": "icVDcrLv8m4j",
        "outputId": "c6492f4c-4e47-4e66-bb80-bd9d545c4e06"
      },
      "source": [
        "# Create a model that includes the augmentation stage, convolutional part and the classification layers\n",
        "inputs = tf.keras.Input(shape=INPUT_SHAPE)\n",
        "\n",
        "x = data_augmentation(inputs)\n",
        "x = base_model(x)\n",
        "# Convert features of shape `base_model.output_shape[1:]` to vectors\n",
        "x = tf.keras.layers.GlobalAveragePooling2D()(x)\n",
        "# A Dense classifier with a single unit (binary classification) after normalizing data\n",
        "x = tf.keras.layers.BatchNormalization()(x)\n",
        "x = tf.keras.layers.Dropout(0.2, seed=SEED)(x)\n",
        "x = tf.keras.layers.Dense(64, activation='relu')(x)\n",
        "x = x = tf.keras.layers.BatchNormalization()(x)\n",
        "x = tf.keras.layers.Dropout(0.2, seed=SEED)(x)\n",
        "x = tf.keras.layers.Dense(16, activation='relu')(x)\n",
        "x = tf.keras.layers.BatchNormalization()(x)\n",
        "x = tf.keras.layers.Dropout(0.2, seed=SEED)(x)\n",
        "outputs = tf.keras.layers.Dense(2, activation='tanh')(x)\n",
        "model = tf.keras.Model(inputs, outputs)\n",
        "model.summary()"
      ],
      "execution_count": 20,
      "outputs": [
        {
          "output_type": "stream",
          "text": [
            "Model: \"model\"\n",
            "_________________________________________________________________\n",
            "Layer (type)                 Output Shape              Param #   \n",
            "=================================================================\n",
            "input_2 (InputLayer)         [(None, 512, 512, 3)]     0         \n",
            "_________________________________________________________________\n",
            "sequential (Sequential)      (None, None, None, 3)     0         \n",
            "_________________________________________________________________\n",
            "resnet50 (Functional)        (None, 16, 16, 2048)      23587712  \n",
            "_________________________________________________________________\n",
            "global_average_pooling2d (Gl (None, 2048)              0         \n",
            "_________________________________________________________________\n",
            "batch_normalization (BatchNo (None, 2048)              8192      \n",
            "_________________________________________________________________\n",
            "dropout (Dropout)            (None, 2048)              0         \n",
            "_________________________________________________________________\n",
            "dense (Dense)                (None, 64)                131136    \n",
            "_________________________________________________________________\n",
            "batch_normalization_1 (Batch (None, 64)                256       \n",
            "_________________________________________________________________\n",
            "dropout_1 (Dropout)          (None, 64)                0         \n",
            "_________________________________________________________________\n",
            "dense_1 (Dense)              (None, 16)                1040      \n",
            "_________________________________________________________________\n",
            "batch_normalization_2 (Batch (None, 16)                64        \n",
            "_________________________________________________________________\n",
            "dropout_2 (Dropout)          (None, 16)                0         \n",
            "_________________________________________________________________\n",
            "dense_2 (Dense)              (None, 2)                 34        \n",
            "=================================================================\n",
            "Total params: 23,728,434\n",
            "Trainable params: 136,466\n",
            "Non-trainable params: 23,591,968\n",
            "_________________________________________________________________\n"
          ],
          "name": "stdout"
        }
      ]
    },
    {
      "cell_type": "code",
      "metadata": {
        "id": "ERXG-D3_-tJJ"
      },
      "source": [
        "from keras.callbacks import EarlyStopping, ModelCheckpoint\n",
        "es = EarlyStopping(monitor='val_loss', mode='auto', verbose=2, restore_best_weights=True, patience=10)\n",
        "mc = ModelCheckpoint('best_regressor.h5', monitor='val_loss', mode='min', save_best_only=True)"
      ],
      "execution_count": 21,
      "outputs": []
    },
    {
      "cell_type": "code",
      "metadata": {
        "colab": {
          "base_uri": "https://localhost:8080/"
        },
        "id": "iYP4Z6fQ_Dml",
        "outputId": "d6d83103-e0f8-4197-dee7-83aac06cf57e"
      },
      "source": [
        "model.compile(optimizer=tf.keras.optimizers.Adam(),\n",
        "                      loss=tf.keras.losses.MeanSquaredError(), metrics=['mean_squared_error'])\n",
        "history = model.fit(X, Y, epochs=EPOCHS, validation_split=0.05, callbacks=[es, mc])"
      ],
      "execution_count": 22,
      "outputs": [
        {
          "output_type": "stream",
          "text": [
            "Epoch 1/30\n",
            "122/122 [==============================] - 194s 1s/step - loss: 0.4370 - mean_squared_error: 0.4370 - val_loss: 0.1421 - val_mean_squared_error: 0.1421\n"
          ],
          "name": "stdout"
        },
        {
          "output_type": "stream",
          "text": [
            "/usr/local/lib/python3.7/dist-packages/tensorflow/python/keras/utils/generic_utils.py:497: CustomMaskWarning: Custom mask layers require a config and must override get_config. When loading, the custom mask layer must be passed to the custom_objects argument.\n",
            "  category=CustomMaskWarning)\n"
          ],
          "name": "stderr"
        },
        {
          "output_type": "stream",
          "text": [
            "Epoch 2/30\n",
            "122/122 [==============================] - 97s 797ms/step - loss: 0.2403 - mean_squared_error: 0.2403 - val_loss: 0.0877 - val_mean_squared_error: 0.0877\n",
            "Epoch 3/30\n",
            "122/122 [==============================] - 88s 717ms/step - loss: 0.1612 - mean_squared_error: 0.1612 - val_loss: 0.0629 - val_mean_squared_error: 0.0629\n",
            "Epoch 4/30\n",
            "122/122 [==============================] - 81s 665ms/step - loss: 0.1170 - mean_squared_error: 0.1170 - val_loss: 0.0536 - val_mean_squared_error: 0.0536\n",
            "Epoch 5/30\n",
            "122/122 [==============================] - 79s 644ms/step - loss: 0.0931 - mean_squared_error: 0.0931 - val_loss: 0.0507 - val_mean_squared_error: 0.0507\n",
            "Epoch 6/30\n",
            "122/122 [==============================] - 75s 614ms/step - loss: 0.0786 - mean_squared_error: 0.0786 - val_loss: 0.0486 - val_mean_squared_error: 0.0486\n",
            "Epoch 7/30\n",
            "122/122 [==============================] - 78s 638ms/step - loss: 0.0686 - mean_squared_error: 0.0686 - val_loss: 0.0469 - val_mean_squared_error: 0.0469\n",
            "Epoch 8/30\n",
            "122/122 [==============================] - 75s 616ms/step - loss: 0.0591 - mean_squared_error: 0.0591 - val_loss: 0.0471 - val_mean_squared_error: 0.0471\n",
            "Epoch 9/30\n",
            "122/122 [==============================] - 78s 642ms/step - loss: 0.0541 - mean_squared_error: 0.0541 - val_loss: 0.0457 - val_mean_squared_error: 0.0457\n",
            "Epoch 10/30\n",
            "122/122 [==============================] - 74s 610ms/step - loss: 0.0513 - mean_squared_error: 0.0513 - val_loss: 0.0453 - val_mean_squared_error: 0.0453\n",
            "Epoch 11/30\n",
            "122/122 [==============================] - 75s 617ms/step - loss: 0.0485 - mean_squared_error: 0.0485 - val_loss: 0.0441 - val_mean_squared_error: 0.0441\n",
            "Epoch 12/30\n",
            "122/122 [==============================] - 77s 628ms/step - loss: 0.0473 - mean_squared_error: 0.0473 - val_loss: 0.0439 - val_mean_squared_error: 0.0439\n",
            "Epoch 13/30\n",
            "122/122 [==============================] - 78s 643ms/step - loss: 0.0457 - mean_squared_error: 0.0457 - val_loss: 0.0435 - val_mean_squared_error: 0.0435\n",
            "Epoch 14/30\n",
            "122/122 [==============================] - 75s 612ms/step - loss: 0.0454 - mean_squared_error: 0.0454 - val_loss: 0.0424 - val_mean_squared_error: 0.0424\n",
            "Epoch 15/30\n",
            "122/122 [==============================] - 75s 619ms/step - loss: 0.0448 - mean_squared_error: 0.0448 - val_loss: 0.0419 - val_mean_squared_error: 0.0419\n",
            "Epoch 16/30\n",
            "122/122 [==============================] - 76s 623ms/step - loss: 0.0437 - mean_squared_error: 0.0437 - val_loss: 0.0427 - val_mean_squared_error: 0.0427\n",
            "Epoch 17/30\n",
            "122/122 [==============================] - 77s 631ms/step - loss: 0.0437 - mean_squared_error: 0.0437 - val_loss: 0.0415 - val_mean_squared_error: 0.0415\n",
            "Epoch 18/30\n",
            "122/122 [==============================] - 74s 609ms/step - loss: 0.0432 - mean_squared_error: 0.0432 - val_loss: 0.0432 - val_mean_squared_error: 0.0432\n",
            "Epoch 19/30\n",
            "122/122 [==============================] - 74s 608ms/step - loss: 0.0429 - mean_squared_error: 0.0429 - val_loss: 0.0412 - val_mean_squared_error: 0.0412\n",
            "Epoch 20/30\n",
            "122/122 [==============================] - 74s 611ms/step - loss: 0.0422 - mean_squared_error: 0.0422 - val_loss: 0.0407 - val_mean_squared_error: 0.0407\n",
            "Epoch 21/30\n",
            "122/122 [==============================] - 78s 638ms/step - loss: 0.0425 - mean_squared_error: 0.0425 - val_loss: 0.0424 - val_mean_squared_error: 0.0424\n",
            "Epoch 22/30\n",
            "122/122 [==============================] - 78s 639ms/step - loss: 0.0416 - mean_squared_error: 0.0416 - val_loss: 0.0419 - val_mean_squared_error: 0.0419\n",
            "Epoch 23/30\n",
            "122/122 [==============================] - 75s 613ms/step - loss: 0.0422 - mean_squared_error: 0.0422 - val_loss: 0.0412 - val_mean_squared_error: 0.0412\n",
            "Epoch 24/30\n",
            "122/122 [==============================] - 75s 617ms/step - loss: 0.0418 - mean_squared_error: 0.0418 - val_loss: 0.0419 - val_mean_squared_error: 0.0419\n",
            "Epoch 25/30\n",
            "122/122 [==============================] - 76s 625ms/step - loss: 0.0417 - mean_squared_error: 0.0417 - val_loss: 0.0412 - val_mean_squared_error: 0.0412\n",
            "Epoch 26/30\n",
            "122/122 [==============================] - 75s 616ms/step - loss: 0.0409 - mean_squared_error: 0.0409 - val_loss: 0.0413 - val_mean_squared_error: 0.0413\n",
            "Epoch 27/30\n",
            "122/122 [==============================] - 75s 613ms/step - loss: 0.0408 - mean_squared_error: 0.0408 - val_loss: 0.0416 - val_mean_squared_error: 0.0416\n",
            "Epoch 28/30\n",
            "122/122 [==============================] - 76s 625ms/step - loss: 0.0411 - mean_squared_error: 0.0411 - val_loss: 0.0420 - val_mean_squared_error: 0.0420\n",
            "Epoch 29/30\n",
            "122/122 [==============================] - 76s 618ms/step - loss: 0.0396 - mean_squared_error: 0.0396 - val_loss: 0.0421 - val_mean_squared_error: 0.0421\n",
            "Epoch 30/30\n",
            "122/122 [==============================] - 76s 626ms/step - loss: 0.0401 - mean_squared_error: 0.0401 - val_loss: 0.0409 - val_mean_squared_error: 0.0409\n",
            "Restoring model weights from the end of the best epoch.\n",
            "Epoch 00030: early stopping\n"
          ],
          "name": "stdout"
        }
      ]
    },
    {
      "cell_type": "code",
      "metadata": {
        "id": "7fpk44wp_ZHv"
      },
      "source": [
        "\n",
        "import matplotlib.pyplot as plt\n",
        "def plot_model_history_regressor(model_history, epochs, batch_size=1):\n",
        "    fig, axs = plt.subplots(1,2,figsize=(15,5))\n",
        "    # Summarize history for accuracy\n",
        "    axs[0].plot(range(1,len(model_history.history['mean_squared_error'])+1),model_history.history['mean_squared_error'])\n",
        "    axs[0].plot(range(1,len(model_history.history['val_mean_squared_error'])+1),model_history.history['val_mean_squared_error'])\n",
        "    axs[0].set_title(\"Model RMSE - \"+\"epochs: \"+str(epochs)+\"/ batch size: \"+str(batch_size))\n",
        "    axs[0].set_ylabel('RMSE')\n",
        "    axs[0].set_xlabel('Epoch')\n",
        "    axs[0].set_xticks(np.arange(1,len(model_history.history[\"mean_squared_error\"])+1),len(model_history.history['mean_squared_error'])/10)\n",
        "    axs[0].legend(['train', 'val'], loc='best')\n",
        "    # summarize history for loss\n",
        "    axs[1].plot(range(1,len(model_history.history['loss'])+1),model_history.history['loss'])\n",
        "    axs[1].plot(range(1,len(model_history.history['val_loss'])+1),model_history.history['val_loss'])\n",
        "    axs[1].set_title(\"Model Loss - \"+\"epochs: \"+str(epochs)+\"/ batch size: \"+str(batch_size))\n",
        "    axs[1].set_ylabel('Loss')\n",
        "    axs[1].set_xlabel('Epoch')\n",
        "    axs[1].set_xticks(np.arange(1,len(model_history.history['loss'])+1),len(model_history.history['loss'])/10)\n",
        "    axs[1].legend(['train', 'val'], loc='best')\n",
        "    plt.savefig(\"epoch: \"+str(epochs)+\" Batch: \"+str(batch_size))\n",
        "    plt.show()"
      ],
      "execution_count": 23,
      "outputs": []
    },
    {
      "cell_type": "code",
      "metadata": {
        "id": "TlQVP2OdAIX-",
        "colab": {
          "base_uri": "https://localhost:8080/",
          "height": 421
        },
        "outputId": "1d47bea1-da1e-4bfa-e003-c0ddce72ee79"
      },
      "source": [
        "plot_model_history_regressor(history, EPOCHS)"
      ],
      "execution_count": 24,
      "outputs": [
        {
          "output_type": "stream",
          "text": [
            "/usr/local/lib/python3.7/dist-packages/ipykernel_launcher.py:11: MatplotlibDeprecationWarning: Passing the minor parameter of set_xticks() positionally is deprecated since Matplotlib 3.2; the parameter will become keyword-only two minor releases later.\n",
            "  # This is added back by InteractiveShellApp.init_path()\n",
            "/usr/local/lib/python3.7/dist-packages/ipykernel_launcher.py:19: MatplotlibDeprecationWarning: Passing the minor parameter of set_xticks() positionally is deprecated since Matplotlib 3.2; the parameter will become keyword-only two minor releases later.\n"
          ],
          "name": "stderr"
        },
        {
          "output_type": "display_data",
          "data": {
            "image/png": "[encoded data removed]",
            "text/plain": [
              "<Figure size 1080x360 with 2 Axes>"
            ]
          },
          "metadata": {
            "tags": [],
            "needs_background": "light"
          }
        }
      ]
    },
    {
      "cell_type": "markdown",
      "metadata": {
        "id": "u0PWEMgKwN7k"
      },
      "source": [
        "# From Classificator to Regressors"
      ]
    },
    {
      "cell_type": "markdown",
      "metadata": {
        "id": "prQjXuiDwu6n"
      },
      "source": [
        "# Final preds"
      ]
    },
    {
      "cell_type": "code",
      "metadata": {
        "id": "kdxObIUeNM88"
      },
      "source": [
        "import matplotlib.image as mpimg\n",
        "from tensorflow.keras.preprocessing import image as image_utils\n",
        "from tensorflow.keras.applications.imagenet_utils import preprocess_input\n",
        "\n",
        "def make_predictions(image_path):\n",
        "    image = image_utils.load_img(image_path, target_size=(IMG_SIZE, IMG_SIZE))\n",
        "    image = image_utils.img_to_array(image)\n",
        "    image = image.reshape(1,IMG_SIZE,IMG_SIZE,3)\n",
        "    image = preprocess_input(image)\n",
        "    return model.predict(image)"
      ],
      "execution_count": 26,
      "outputs": []
    },
    {
      "cell_type": "markdown",
      "metadata": {
        "id": "fShNXsJdgVge"
      },
      "source": [
        ""
      ]
    },
    {
      "cell_type": "code",
      "metadata": {
        "id": "BYi0V6AqN8Pv"
      },
      "source": [
        "preds = make_predictions('/content/drive/MyDrive/GANsNRoses/datasets/output/pictures/' + '57727f2dedc2cb3880ed5fa9.jpg')"
      ],
      "execution_count": 37,
      "outputs": []
    },
    {
      "cell_type": "code",
      "metadata": {
        "id": "tH7iPnolOmqm",
        "colab": {
          "base_uri": "https://localhost:8080/"
        },
        "outputId": "367cb725-9428-4b84-96ea-2e4384fa8951"
      },
      "source": [
        "preds"
      ],
      "execution_count": 38,
      "outputs": [
        {
          "output_type": "execute_result",
          "data": {
            "text/plain": [
              "array([[ 0.14275141, -0.05330629]], dtype=float32)"
            ]
          },
          "metadata": {
            "tags": []
          },
          "execution_count": 38
        }
      ]
    },
    {
      "cell_type": "code",
      "metadata": {
        "id": "JOv66Z56YK3x",
        "colab": {
          "base_uri": "https://localhost:8080/"
        },
        "outputId": "214443c8-0a71-48c9-8f3a-a3f3a31a34ab"
      },
      "source": [
        "annotations.loc['57727f2dedc2cb3880ed5fa9.jpg']"
      ],
      "execution_count": 39,
      "outputs": [
        {
          "output_type": "execute_result",
          "data": {
            "text/plain": [
              "anger                                                           0\n",
              "anticipation                                             0.135688\n",
              "arrogance                                                       0\n",
              "disgust                                                         0\n",
              "fear                                                            0\n",
              "gratitude                                                0.122775\n",
              "happiness                                                0.183159\n",
              "humility                                                 0.149958\n",
              "love                                                            0\n",
              "optimism                                                 0.149958\n",
              "pessimism                                                       0\n",
              "regret                                                          0\n",
              "sadness                                                         0\n",
              "shame                                                           0\n",
              "surprise                                                 0.122775\n",
              "trust                                                    0.135688\n",
              "valence                                                  0.526967\n",
              "arousal                                                 0.0431309\n",
              "quadrant                                                        0\n",
              "img             [[[183, 178, 203], [179, 178, 207], [157, 161,...\n",
              "Name: 57727f2dedc2cb3880ed5fa9.jpg, dtype: object"
            ]
          },
          "metadata": {
            "tags": []
          },
          "execution_count": 39
        }
      ]
    },
    {
      "cell_type": "code",
      "metadata": {
        "id": "n9fKQ6yGpHtN",
        "colab": {
          "base_uri": "https://localhost:8080/"
        },
        "outputId": "99c276da-ba67-420f-8877-9c87d28e622a"
      },
      "source": [
        "annotations.quadrant.head(20)"
      ],
      "execution_count": 30,
      "outputs": [
        {
          "output_type": "execute_result",
          "data": {
            "text/plain": [
              "picture\n",
              "58c6237dedc2c9c7dc0de1ae.jpg    0\n",
              "577280dfedc2cb3880f28e76.jpg    2\n",
              "57727f2dedc2cb3880ed5fa9.jpg    0\n",
              "58d1240cedc2c94f900fc610.jpg    2\n",
              "57727de7edc2cb3880e91f26.jpg    2\n",
              "57728297edc2cb3880f81f5b.jpg    2\n",
              "5772797dedc2cb3880db5504.jpg    2\n",
              "57726e48edc2cb3880b69b14.jpg    3\n",
              "57728255edc2cb3880f7644a.jpg    2\n",
              "5772843bedc2cb3880fd334d.jpg    2\n",
              "577285b4edc2cb388001c741.jpg    3\n",
              "5772898cedc2cb38800df3fd.jpg    3\n",
              "5772849eedc2cb3880fe72ab.jpg    3\n",
              "577282b3edc2cb3880f89e19.jpg    3\n",
              "577284a7edc2cb3880fe813a.jpg    3\n",
              "57727ca4edc2cb3880e54008.jpg    3\n",
              "57726ff3edc2cb3880bc56a7.jpg    0\n",
              "577288deedc2cb38800bdf0f.jpg    2\n",
              "57726e25edc2cb3880b60a8b.jpg    2\n",
              "577288ddedc2cb38800bde1d.jpg    2\n",
              "Name: quadrant, dtype: int64"
            ]
          },
          "metadata": {
            "tags": []
          },
          "execution_count": 30
        }
      ]
    },
    {
      "cell_type": "code",
      "metadata": {
        "id": "UHr-F3NNbaEH"
      },
      "source": [
        ""
      ],
      "execution_count": null,
      "outputs": []
    }
  ]
}